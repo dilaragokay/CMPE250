{
 "cells": [
  {
   "cell_type": "code",
   "execution_count": 0,
   "metadata": {
    "colab": {},
    "colab_type": "code",
    "id": "cxnOhPtg4nqZ"
   },
   "outputs": [],
   "source": [
    "import os\n",
    "\n",
    "import tensorflow as tf\n",
    "import numpy as np\n",
    "import pandas as pd\n",
    "import keras\n",
    "from sklearn.model_selection import StratifiedShuffleSplit"
   ]
  },
  {
   "cell_type": "code",
   "execution_count": 0,
   "metadata": {
    "colab": {},
    "colab_type": "code",
    "id": "V5pfW03IXtTv"
   },
   "outputs": [],
   "source": [
    "fashion_mnist = keras.datasets.fashion_mnist\n",
    "\n",
    "(train_images, train_labels), (test_images, test_labels) = fashion_mnist.load_data()\n",
    "\n",
    "train_images = np.expand_dims(train_images, 3)\n",
    "test_images = np.expand_dims(test_images, 3)"
   ]
  },
  {
   "cell_type": "code",
   "execution_count": 0,
   "metadata": {
    "colab": {},
    "colab_type": "code",
    "id": "EVYs5CuWYDQt"
   },
   "outputs": [],
   "source": [
    "class_names = ['T-shirt/top', 'Trouser', 'Pullover', 'Dress', 'Coat', 'Sandal', 'Shirt', 'Sneaker', 'Bag', 'Ankle boot']"
   ]
  },
  {
   "cell_type": "code",
   "execution_count": 0,
   "metadata": {
    "colab": {},
    "colab_type": "code",
    "id": "sAIj3RnL8Hhy"
   },
   "outputs": [],
   "source": [
    "sss = StratifiedShuffleSplit(n_splits=5, random_state=0, test_size=0.15)\n",
    "\n",
    "train_index, valid_index = next(sss.split(train_images, train_labels))\n",
    "\n",
    "x_valid, y_valid = train_images[valid_index], train_labels[valid_index]\n",
    "train_images, train_labels = train_images[train_index], train_labels[train_index]"
   ]
  },
  {
   "cell_type": "code",
   "execution_count": 0,
   "metadata": {
    "colab": {},
    "colab_type": "code",
    "id": "N8EfI0hw8K8P"
   },
   "outputs": [],
   "source": [
    "model.add(tf.keras.layers.BatchNormalization(input_shape=train_images.shape[1:]))\n",
    "model.add(tf.keras.layers.Conv2D(64, (5, 5), padding='same', activation='relu'))\n",
    "model.add(tf.keras.layers.MaxPooling2D(pool_size=(2, 2), strides=(3,3)))\n",
    "model.add(tf.keras.layers.Dropout(0.3))\n",
    "model.add(tf.keras.layers.BatchNormalization(input_shape=train_images.shape[1:]))\n",
    "model.add(tf.keras.layers.Conv2D(128, (5, 5), padding='same', activation='relu'))\n",
    "model.add(tf.keras.layers.MaxPooling2D(pool_size=(2, 2)))\n",
    "model.add(tf.keras.layers.Dropout(0.3))\n",
    "model.add(tf.keras.layers.BatchNormalization(input_shape=train_images.shape[1:]))\n",
    "model.add(tf.keras.layers.Conv2D(256, (5, 5), padding='same', activation='relu'))\n",
    "model.add(tf.keras.layers.MaxPooling2D(pool_size=(2, 2), strides=(2,2)))\n",
    "model.add(tf.keras.layers.Dropout(0.3))\n",
    "model.add(tf.keras.layers.Flatten())\n",
    "model.add(tf.keras.layers.Dense(256))\n",
    "model.add(tf.keras.layers.Activation('elu'))\n",
    "model.add(tf.keras.layers.Dropout(0.4))\n",
    "model.add(tf.keras.layers.Dense(10))\n",
    "model.add(tf.keras.layers.Activation('softmax'))"
   ]
  },
  {
   "cell_type": "code",
   "execution_count": 0,
   "metadata": {
    "colab": {
     "base_uri": "https://localhost:8080/",
     "height": 343
    },
    "colab_type": "code",
    "id": "FCYHyX_p8MvO",
    "outputId": "2a4c61ed-af98-4fbe-dec1-9d6eb8c63217"
   },
   "outputs": [
    {
     "name": "stdout",
     "output_type": "stream",
     "text": [
      "INFO:tensorflow:Querying Tensorflow master (b'grpc://10.40.147.42:8470') for TPU system metadata.\n",
      "INFO:tensorflow:Found TPU system:\n",
      "INFO:tensorflow:*** Num TPU Cores: 8\n",
      "INFO:tensorflow:*** Num TPU Workers: 1\n",
      "INFO:tensorflow:*** Num TPU Cores Per Worker: 8\n",
      "INFO:tensorflow:*** Available Device: _DeviceAttributes(/job:worker/replica:0/task:0/device:CPU:0, CPU, -1, 17362590297417055769)\n",
      "INFO:tensorflow:*** Available Device: _DeviceAttributes(/job:worker/replica:0/task:0/device:XLA_CPU:0, XLA_CPU, 17179869184, 14313744146542037570)\n",
      "INFO:tensorflow:*** Available Device: _DeviceAttributes(/job:worker/replica:0/task:0/device:XLA_GPU:0, XLA_GPU, 17179869184, 7752905181711505116)\n",
      "INFO:tensorflow:*** Available Device: _DeviceAttributes(/job:worker/replica:0/task:0/device:TPU:0, TPU, 17179869184, 6789268817312198019)\n",
      "INFO:tensorflow:*** Available Device: _DeviceAttributes(/job:worker/replica:0/task:0/device:TPU:1, TPU, 17179869184, 16413383183326732077)\n",
      "INFO:tensorflow:*** Available Device: _DeviceAttributes(/job:worker/replica:0/task:0/device:TPU:2, TPU, 17179869184, 7175834816514419274)\n",
      "INFO:tensorflow:*** Available Device: _DeviceAttributes(/job:worker/replica:0/task:0/device:TPU:3, TPU, 17179869184, 431637199233474184)\n",
      "INFO:tensorflow:*** Available Device: _DeviceAttributes(/job:worker/replica:0/task:0/device:TPU:4, TPU, 17179869184, 1670169321586536756)\n",
      "INFO:tensorflow:*** Available Device: _DeviceAttributes(/job:worker/replica:0/task:0/device:TPU:5, TPU, 17179869184, 7196361711458188303)\n",
      "INFO:tensorflow:*** Available Device: _DeviceAttributes(/job:worker/replica:0/task:0/device:TPU:6, TPU, 17179869184, 18009511932017986188)\n",
      "INFO:tensorflow:*** Available Device: _DeviceAttributes(/job:worker/replica:0/task:0/device:TPU:7, TPU, 17179869184, 6306656714257262877)\n",
      "INFO:tensorflow:*** Available Device: _DeviceAttributes(/job:worker/replica:0/task:0/device:TPU_SYSTEM:0, TPU_SYSTEM, 17179869184, 16172087006911515564)\n",
      "WARNING:tensorflow:tpu_model (from tensorflow.contrib.tpu.python.tpu.keras_support) is experimental and may change or be removed at any time, and without warning.\n"
     ]
    }
   ],
   "source": [
    "tpu_model = tf.contrib.tpu.keras_to_tpu_model(\n",
    "    model,\n",
    "    strategy=tf.contrib.tpu.TPUDistributionStrategy(\n",
    "        tf.contrib.cluster_resolver.TPUClusterResolver(tpu='grpc://' + os.environ['COLAB_TPU_ADDR'])\n",
    "    )\n",
    ")\n",
    "tpu_model.compile(\n",
    "    optimizer=tf.train.AdamOptimizer(learning_rate=1e-3),\n",
    "    loss=tf.keras.losses.sparse_categorical_crossentropy,\n",
    "    metrics=['sparse_categorical_accuracy']\n",
    ")"
   ]
  },
  {
   "cell_type": "code",
   "execution_count": 0,
   "metadata": {
    "colab": {
     "base_uri": "https://localhost:8080/",
     "height": 1363
    },
    "colab_type": "code",
    "id": "NvCKS7_d8UQX",
    "outputId": "6baf14e3-74a0-4ea7-f7f9-25f916c2fa46"
   },
   "outputs": [
    {
     "name": "stdout",
     "output_type": "stream",
     "text": [
      "Epoch 1/30\n",
      "INFO:tensorflow:New input shapes; (re-)compiling: mode=train (# of cores 8), [TensorSpec(shape=(64,), dtype=tf.int32, name='core_id_260'), TensorSpec(shape=(64, 28, 28, 1), dtype=tf.float32, name='batch_normalization_40_input_10'), TensorSpec(shape=(64, 1), dtype=tf.float32, name='activation_27_target_10')]\n",
      "INFO:tensorflow:Overriding default placeholder.\n",
      "INFO:tensorflow:Remapping placeholder for batch_normalization_40_input\n",
      "INFO:tensorflow:Started compiling\n",
      "INFO:tensorflow:Finished compiling. Time elapsed: 18.354536056518555 secs\n",
      "INFO:tensorflow:Setting weights on TPU model.\n",
      " 99/100 [============================>.] - ETA: 0s - loss: 0.7383 - sparse_categorical_accuracy: 0.7482INFO:tensorflow:New input shapes; (re-)compiling: mode=eval (# of cores 8), [TensorSpec(shape=(64,), dtype=tf.int32, name='core_id_270'), TensorSpec(shape=(64, 28, 28, 1), dtype=tf.float32, name='batch_normalization_40_input_10'), TensorSpec(shape=(64, 1), dtype=tf.float32, name='activation_27_target_10')]\n",
      "INFO:tensorflow:Overriding default placeholder.\n",
      "INFO:tensorflow:Remapping placeholder for batch_normalization_40_input\n",
      "INFO:tensorflow:Started compiling\n",
      "INFO:tensorflow:Finished compiling. Time elapsed: 13.453529596328735 secs\n",
      "INFO:tensorflow:New input shapes; (re-)compiling: mode=eval (# of cores 8), [TensorSpec(shape=(37,), dtype=tf.int32, name='core_id_270'), TensorSpec(shape=(37, 28, 28, 1), dtype=tf.float32, name='batch_normalization_40_input_10'), TensorSpec(shape=(37, 1), dtype=tf.float32, name='activation_27_target_10')]\n",
      "INFO:tensorflow:Overriding default placeholder.\n",
      "INFO:tensorflow:Remapping placeholder for batch_normalization_40_input\n",
      "INFO:tensorflow:Started compiling\n",
      "INFO:tensorflow:Finished compiling. Time elapsed: 13.308225631713867 secs\n",
      "100/100 [==============================] - 67s 675ms/step - loss: 0.7359 - sparse_categorical_accuracy: 0.7489 - val_loss: 1.4748 - val_sparse_categorical_accuracy: 0.4546\n",
      "Epoch 2/30\n",
      "100/100 [==============================] - 7s 70ms/step - loss: 0.4402 - sparse_categorical_accuracy: 0.8453 - val_loss: 1.7790 - val_sparse_categorical_accuracy: 0.2402\n",
      "Epoch 3/30\n",
      "100/100 [==============================] - 7s 68ms/step - loss: 0.3698 - sparse_categorical_accuracy: 0.8671 - val_loss: 1.3866 - val_sparse_categorical_accuracy: 0.4870\n",
      "Epoch 4/30\n",
      "100/100 [==============================] - 7s 69ms/step - loss: 0.3267 - sparse_categorical_accuracy: 0.8832 - val_loss: 0.8789 - val_sparse_categorical_accuracy: 0.6864\n",
      "Epoch 5/30\n",
      "100/100 [==============================] - 7s 70ms/step - loss: 0.3008 - sparse_categorical_accuracy: 0.8906 - val_loss: 0.3930 - val_sparse_categorical_accuracy: 0.8720\n",
      "Epoch 6/30\n",
      "100/100 [==============================] - 7s 70ms/step - loss: 0.2794 - sparse_categorical_accuracy: 0.8971 - val_loss: 0.2838 - val_sparse_categorical_accuracy: 0.8974\n",
      "Epoch 7/30\n",
      "100/100 [==============================] - 7s 70ms/step - loss: 0.2565 - sparse_categorical_accuracy: 0.9053 - val_loss: 0.2573 - val_sparse_categorical_accuracy: 0.9050\n",
      "Epoch 8/30\n",
      "100/100 [==============================] - 7s 71ms/step - loss: 0.2455 - sparse_categorical_accuracy: 0.9087 - val_loss: 0.2361 - val_sparse_categorical_accuracy: 0.9119\n",
      "Epoch 9/30\n",
      "100/100 [==============================] - 7s 73ms/step - loss: 0.2311 - sparse_categorical_accuracy: 0.9146 - val_loss: 0.2306 - val_sparse_categorical_accuracy: 0.9147\n",
      "Epoch 10/30\n",
      "100/100 [==============================] - 7s 72ms/step - loss: 0.2299 - sparse_categorical_accuracy: 0.9133 - val_loss: 0.2397 - val_sparse_categorical_accuracy: 0.9113\n",
      "Epoch 11/30\n",
      "100/100 [==============================] - 7s 70ms/step - loss: 0.2176 - sparse_categorical_accuracy: 0.9191 - val_loss: 0.2245 - val_sparse_categorical_accuracy: 0.9172\n",
      "Epoch 12/30\n",
      "100/100 [==============================] - 7s 71ms/step - loss: 0.2081 - sparse_categorical_accuracy: 0.9228 - val_loss: 0.2133 - val_sparse_categorical_accuracy: 0.9221\n",
      "Epoch 13/30\n",
      "100/100 [==============================] - 7s 71ms/step - loss: 0.1936 - sparse_categorical_accuracy: 0.9283 - val_loss: 0.2238 - val_sparse_categorical_accuracy: 0.9184\n",
      "Epoch 14/30\n",
      "100/100 [==============================] - 7s 70ms/step - loss: 0.1970 - sparse_categorical_accuracy: 0.9268 - val_loss: 0.2071 - val_sparse_categorical_accuracy: 0.9250\n",
      "Epoch 15/30\n",
      "100/100 [==============================] - 7s 70ms/step - loss: 0.1896 - sparse_categorical_accuracy: 0.9294 - val_loss: 0.2292 - val_sparse_categorical_accuracy: 0.9183\n",
      "Epoch 16/30\n",
      "100/100 [==============================] - 7s 70ms/step - loss: 0.1785 - sparse_categorical_accuracy: 0.9335 - val_loss: 0.2226 - val_sparse_categorical_accuracy: 0.9198\n",
      "Epoch 17/30\n",
      "100/100 [==============================] - 7s 70ms/step - loss: 0.1722 - sparse_categorical_accuracy: 0.9359 - val_loss: 0.2132 - val_sparse_categorical_accuracy: 0.9244\n",
      "Epoch 18/30\n",
      "100/100 [==============================] - 7s 71ms/step - loss: 0.1677 - sparse_categorical_accuracy: 0.9369 - val_loss: 0.2121 - val_sparse_categorical_accuracy: 0.9237\n",
      "Epoch 19/30\n",
      "100/100 [==============================] - 7s 70ms/step - loss: 0.1648 - sparse_categorical_accuracy: 0.9381 - val_loss: 0.2286 - val_sparse_categorical_accuracy: 0.9180\n",
      "Epoch 20/30\n",
      "100/100 [==============================] - 7s 70ms/step - loss: 0.1595 - sparse_categorical_accuracy: 0.9412 - val_loss: 0.2314 - val_sparse_categorical_accuracy: 0.9200\n",
      "Epoch 21/30\n",
      "100/100 [==============================] - 7s 69ms/step - loss: 0.1612 - sparse_categorical_accuracy: 0.9393 - val_loss: 0.2247 - val_sparse_categorical_accuracy: 0.9221\n",
      "Epoch 22/30\n",
      "100/100 [==============================] - 7s 70ms/step - loss: 0.1510 - sparse_categorical_accuracy: 0.9435 - val_loss: 0.2109 - val_sparse_categorical_accuracy: 0.9256\n",
      "Epoch 23/30\n",
      "100/100 [==============================] - 7s 70ms/step - loss: 0.1517 - sparse_categorical_accuracy: 0.9434 - val_loss: 0.2038 - val_sparse_categorical_accuracy: 0.9259\n",
      "Epoch 24/30\n",
      "100/100 [==============================] - 7s 70ms/step - loss: 0.1506 - sparse_categorical_accuracy: 0.9435 - val_loss: 0.2178 - val_sparse_categorical_accuracy: 0.9243\n",
      "Epoch 25/30\n",
      "100/100 [==============================] - 7s 70ms/step - loss: 0.1413 - sparse_categorical_accuracy: 0.9474 - val_loss: 0.2294 - val_sparse_categorical_accuracy: 0.9211\n",
      "Epoch 26/30\n",
      "100/100 [==============================] - 7s 69ms/step - loss: 0.1386 - sparse_categorical_accuracy: 0.9484 - val_loss: 0.2060 - val_sparse_categorical_accuracy: 0.9287\n",
      "Epoch 27/30\n",
      "100/100 [==============================] - 7s 71ms/step - loss: 0.1381 - sparse_categorical_accuracy: 0.9498 - val_loss: 0.2157 - val_sparse_categorical_accuracy: 0.9271\n",
      "Epoch 28/30\n",
      "100/100 [==============================] - 7s 69ms/step - loss: 0.1336 - sparse_categorical_accuracy: 0.9509 - val_loss: 0.2131 - val_sparse_categorical_accuracy: 0.9264\n",
      "Epoch 29/30\n",
      "100/100 [==============================] - 7s 70ms/step - loss: 0.1284 - sparse_categorical_accuracy: 0.9514 - val_loss: 0.2294 - val_sparse_categorical_accuracy: 0.9219\n",
      "Epoch 30/30\n",
      "100/100 [==============================] - 7s 70ms/step - loss: 0.1264 - sparse_categorical_accuracy: 0.9525 - val_loss: 0.2158 - val_sparse_categorical_accuracy: 0.9247\n",
      "CPU times: user 49.9 s, sys: 6.57 s, total: 56.5 s\n",
      "Wall time: 4min 31s\n"
     ]
    }
   ],
   "source": [
    "%%time\n",
    "def train_gen(batch_size):\n",
    "  while True:\n",
    "    offset = np.random.randint(0, train_images.shape[0] - batch_size)\n",
    "    yield train_images[offset:offset+batch_size], train_labels[offset:offset + batch_size]\n",
    "    \n",
    "\n",
    "history = tpu_model.fit_generator(\n",
    "    train_gen(512),\n",
    "    epochs=30,\n",
    "    steps_per_epoch=100,\n",
    "    validation_data=(x_valid, y_valid)\n",
    ")"
   ]
  },
  {
   "cell_type": "code",
   "execution_count": 0,
   "metadata": {
    "colab": {
     "base_uri": "https://localhost:8080/",
     "height": 34
    },
    "colab_type": "code",
    "id": "RIw-523SSyOH",
    "outputId": "b96cdd63-facd-4319-a967-07c75affdee1"
   },
   "outputs": [
    {
     "name": "stdout",
     "output_type": "stream",
     "text": [
      "dict_keys(['val_loss', 'val_sparse_categorical_accuracy', 'loss', 'sparse_categorical_accuracy'])\n"
     ]
    }
   ],
   "source": [
    "print(history.history.keys())"
   ]
  },
  {
   "cell_type": "code",
   "execution_count": 0,
   "metadata": {
    "colab": {
     "base_uri": "https://localhost:8080/",
     "height": 376
    },
    "colab_type": "code",
    "id": "WaCeOiZfR_jq",
    "outputId": "85137e2f-18cb-48eb-d393-17f25d2f8a8c"
   },
   "outputs": [
    {
     "data": {
      "image/png": "[encoded data removed]",
      "text/plain": [
       "<matplotlib.figure.Figure at 0x7f9ec7c8db38>"
      ]
     },
     "metadata": {
      "tags": []
     },
     "output_type": "display_data"
    }
   ],
   "source": [
    "import matplotlib.pyplot as plt\n",
    "\n",
    "plt.plot(history.history['loss'])\n",
    "plt.plot(history.history['val_loss'])\n",
    "plt.title('model loss')\n",
    "plt.ylabel('loss')\n",
    "plt.xlabel('epoch')\n",
    "plt.legend(['train', 'test'], loc='upper left')\n",
    "plt.show()"
   ]
  },
  {
   "cell_type": "code",
   "execution_count": 0,
   "metadata": {
    "colab": {
     "base_uri": "https://localhost:8080/",
     "height": 51
    },
    "colab_type": "code",
    "id": "SGR6rJUk9A7q",
    "outputId": "a8af0249-fd63-445f-dfd6-d45a5dc76abd"
   },
   "outputs": [
    {
     "name": "stdout",
     "output_type": "stream",
     "text": [
      "INFO:tensorflow:Copying TPU weights to the CPU\n",
      "Test accuracy: 0.9171\n"
     ]
    }
   ],
   "source": [
    "model = tpu_model.sync_to_cpu()\n",
    "\n",
    "score = model.evaluate(test_images, test_labels, verbose=0)\n",
    "\n",
    "print('Test accuracy:', score[1])"
   ]
  },
  {
   "cell_type": "code",
   "execution_count": 0,
   "metadata": {
    "colab": {},
    "colab_type": "code",
    "id": "mahl9-BbwTmx"
   },
   "outputs": [],
   "source": []
  }
 ],
 "metadata": {
  "accelerator": "TPU",
  "colab": {
   "collapsed_sections": [],
   "name": "Part 2 - Experiment no.2",
   "provenance": [],
   "version": "0.3.2"
  },
  "kernelspec": {
   "display_name": "Python 3",
   "language": "python",
   "name": "python3"
  },
  "language_info": {
   "codemirror_mode": {
    "name": "ipython",
    "version": 3
   },
   "file_extension": ".py",
   "mimetype": "text/x-python",
   "name": "python",
   "nbconvert_exporter": "python",
   "pygments_lexer": "ipython3",
   "version": "3.6.7"
  }
 },
 "nbformat": 4,
 "nbformat_minor": 1
}
