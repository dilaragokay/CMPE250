{
 "cells": [
  {
   "cell_type": "code",
   "execution_count": 0,
   "metadata": {
    "colab": {},
    "colab_type": "code",
    "id": "cxnOhPtg4nqZ"
   },
   "outputs": [],
   "source": [
    "import os\n",
    "\n",
    "import tensorflow as tf\n",
    "import numpy as np\n",
    "import pandas as pd\n",
    "import keras\n",
    "from sklearn.model_selection import StratifiedShuffleSplit"
   ]
  },
  {
   "cell_type": "code",
   "execution_count": 0,
   "metadata": {
    "colab": {},
    "colab_type": "code",
    "id": "V5pfW03IXtTv"
   },
   "outputs": [],
   "source": [
    "fashion_mnist = keras.datasets.fashion_mnist\n",
    "\n",
    "(train_images, train_labels), (test_images, test_labels) = fashion_mnist.load_data()\n",
    "\n",
    "train_images = np.expand_dims(train_images, 3)\n",
    "test_images = np.expand_dims(test_images, 3)"
   ]
  },
  {
   "cell_type": "code",
   "execution_count": 0,
   "metadata": {
    "colab": {},
    "colab_type": "code",
    "id": "EVYs5CuWYDQt"
   },
   "outputs": [],
   "source": [
    "class_names = ['T-shirt/top', 'Trouser', 'Pullover', 'Dress', 'Coat', 'Sandal', 'Shirt', 'Sneaker', 'Bag', 'Ankle boot']"
   ]
  },
  {
   "cell_type": "code",
   "execution_count": 0,
   "metadata": {
    "colab": {},
    "colab_type": "code",
    "id": "sAIj3RnL8Hhy"
   },
   "outputs": [],
   "source": [
    "sss = StratifiedShuffleSplit(n_splits=5, random_state=0, test_size=0.15)\n",
    "\n",
    "train_index, valid_index = next(sss.split(train_images, train_labels))\n",
    "\n",
    "x_valid, y_valid = train_images[valid_index], train_labels[valid_index]\n",
    "train_images, train_labels = train_images[train_index], train_labels[train_index]"
   ]
  },
  {
   "cell_type": "code",
   "execution_count": 0,
   "metadata": {
    "colab": {
     "base_uri": "https://localhost:8080/",
     "height": 748
    },
    "colab_type": "code",
    "id": "N8EfI0hw8K8P",
    "outputId": "d313fae7-0cc1-4719-9ef8-88dd3ec4239d"
   },
   "outputs": [
    {
     "name": "stdout",
     "output_type": "stream",
     "text": [
      "_________________________________________________________________\n",
      "Layer (type)                 Output Shape              Param #   \n",
      "=================================================================\n",
      "batch_normalization_31 (Batc (None, 28, 28, 1)         4         \n",
      "_________________________________________________________________\n",
      "conv2d_31 (Conv2D)           (None, 26, 26, 64)        640       \n",
      "_________________________________________________________________\n",
      "max_pooling2d_29 (MaxPooling (None, 13, 13, 64)        0         \n",
      "_________________________________________________________________\n",
      "dropout_38 (Dropout)         (None, 13, 13, 64)        0         \n",
      "_________________________________________________________________\n",
      "batch_normalization_32 (Batc (None, 13, 13, 64)        256       \n",
      "_________________________________________________________________\n",
      "conv2d_32 (Conv2D)           (None, 11, 11, 128)       73856     \n",
      "_________________________________________________________________\n",
      "max_pooling2d_30 (MaxPooling (None, 5, 5, 128)         0         \n",
      "_________________________________________________________________\n",
      "dropout_39 (Dropout)         (None, 5, 5, 128)         0         \n",
      "_________________________________________________________________\n",
      "batch_normalization_33 (Batc (None, 5, 5, 128)         512       \n",
      "_________________________________________________________________\n",
      "conv2d_33 (Conv2D)           (None, 3, 3, 256)         295168    \n",
      "_________________________________________________________________\n",
      "max_pooling2d_31 (MaxPooling (None, 1, 1, 256)         0         \n",
      "_________________________________________________________________\n",
      "dropout_40 (Dropout)         (None, 1, 1, 256)         0         \n",
      "_________________________________________________________________\n",
      "flatten_10 (Flatten)         (None, 256)               0         \n",
      "_________________________________________________________________\n",
      "dense_20 (Dense)             (None, 256)               65792     \n",
      "_________________________________________________________________\n",
      "activation_20 (Activation)   (None, 256)               0         \n",
      "_________________________________________________________________\n",
      "dropout_41 (Dropout)         (None, 256)               0         \n",
      "_________________________________________________________________\n",
      "dense_21 (Dense)             (None, 10)                2570      \n",
      "_________________________________________________________________\n",
      "activation_21 (Activation)   (None, 10)                0         \n",
      "=================================================================\n",
      "Total params: 438,798\n",
      "Trainable params: 438,412\n",
      "Non-trainable params: 386\n",
      "_________________________________________________________________\n"
     ]
    }
   ],
   "source": [
    "model = tf.keras.models.Sequential()\n",
    "model.add(tf.keras.layers.BatchNormalization(input_shape=train_images.shape[1:]))\n",
    "model.add(tf.keras.layers.Conv2D(64, (3, 3), activation='elu', strides=(1,1)))\n",
    "model.add(tf.keras.layers.MaxPooling2D(pool_size=(2, 2), strides=(2,2)))\n",
    "model.add(tf.keras.layers.Dropout(0.25))\n",
    "model.add(tf.keras.layers.BatchNormalization(input_shape=train_images.shape[1:]))\n",
    "model.add(tf.keras.layers.Conv2D(128, (3, 3), activation='relu', strides=(1,1)))\n",
    "model.add(tf.keras.layers.MaxPooling2D(pool_size=(2, 2)))\n",
    "model.add(tf.keras.layers.Dropout(0.25))\n",
    "model.add(tf.keras.layers.BatchNormalization(input_shape=train_images.shape[1:]))\n",
    "model.add(tf.keras.layers.Conv2D(256, (3, 3), activation='elu', strides=(1,1)))\n",
    "model.add(tf.keras.layers.MaxPooling2D(pool_size=(2, 2), strides=(2,2)))\n",
    "model.add(tf.keras.layers.Dropout(0.25))\n",
    "model.add(tf.keras.layers.Flatten())\n",
    "model.add(tf.keras.layers.Dense(256))\n",
    "model.add(tf.keras.layers.Activation('elu'))\n",
    "model.add(tf.keras.layers.Dropout(0.3))\n",
    "model.add(tf.keras.layers.Dense(10))\n",
    "model.add(tf.keras.layers.Activation('softmax'))\n",
    "model.summary()"
   ]
  },
  {
   "cell_type": "code",
   "execution_count": 0,
   "metadata": {
    "colab": {
     "base_uri": "https://localhost:8080/",
     "height": 343
    },
    "colab_type": "code",
    "id": "FCYHyX_p8MvO",
    "outputId": "abc214ae-deaf-4f32-f735-796574258754"
   },
   "outputs": [
    {
     "name": "stdout",
     "output_type": "stream",
     "text": [
      "INFO:tensorflow:Querying Tensorflow master (b'grpc://10.40.147.42:8470') for TPU system metadata.\n",
      "INFO:tensorflow:Found TPU system:\n",
      "INFO:tensorflow:*** Num TPU Cores: 8\n",
      "INFO:tensorflow:*** Num TPU Workers: 1\n",
      "INFO:tensorflow:*** Num TPU Cores Per Worker: 8\n",
      "INFO:tensorflow:*** Available Device: _DeviceAttributes(/job:worker/replica:0/task:0/device:CPU:0, CPU, -1, 17362590297417055769)\n",
      "INFO:tensorflow:*** Available Device: _DeviceAttributes(/job:worker/replica:0/task:0/device:XLA_CPU:0, XLA_CPU, 17179869184, 14313744146542037570)\n",
      "INFO:tensorflow:*** Available Device: _DeviceAttributes(/job:worker/replica:0/task:0/device:XLA_GPU:0, XLA_GPU, 17179869184, 7752905181711505116)\n",
      "INFO:tensorflow:*** Available Device: _DeviceAttributes(/job:worker/replica:0/task:0/device:TPU:0, TPU, 17179869184, 6789268817312198019)\n",
      "INFO:tensorflow:*** Available Device: _DeviceAttributes(/job:worker/replica:0/task:0/device:TPU:1, TPU, 17179869184, 16413383183326732077)\n",
      "INFO:tensorflow:*** Available Device: _DeviceAttributes(/job:worker/replica:0/task:0/device:TPU:2, TPU, 17179869184, 7175834816514419274)\n",
      "INFO:tensorflow:*** Available Device: _DeviceAttributes(/job:worker/replica:0/task:0/device:TPU:3, TPU, 17179869184, 431637199233474184)\n",
      "INFO:tensorflow:*** Available Device: _DeviceAttributes(/job:worker/replica:0/task:0/device:TPU:4, TPU, 17179869184, 1670169321586536756)\n",
      "INFO:tensorflow:*** Available Device: _DeviceAttributes(/job:worker/replica:0/task:0/device:TPU:5, TPU, 17179869184, 7196361711458188303)\n",
      "INFO:tensorflow:*** Available Device: _DeviceAttributes(/job:worker/replica:0/task:0/device:TPU:6, TPU, 17179869184, 18009511932017986188)\n",
      "INFO:tensorflow:*** Available Device: _DeviceAttributes(/job:worker/replica:0/task:0/device:TPU:7, TPU, 17179869184, 6306656714257262877)\n",
      "INFO:tensorflow:*** Available Device: _DeviceAttributes(/job:worker/replica:0/task:0/device:TPU_SYSTEM:0, TPU_SYSTEM, 17179869184, 16172087006911515564)\n",
      "WARNING:tensorflow:tpu_model (from tensorflow.contrib.tpu.python.tpu.keras_support) is experimental and may change or be removed at any time, and without warning.\n"
     ]
    }
   ],
   "source": [
    "tpu_model = tf.contrib.tpu.keras_to_tpu_model(\n",
    "    model,\n",
    "    strategy=tf.contrib.tpu.TPUDistributionStrategy(\n",
    "        tf.contrib.cluster_resolver.TPUClusterResolver(tpu='grpc://' + os.environ['COLAB_TPU_ADDR'])\n",
    "    )\n",
    ")\n",
    "tpu_model.compile(\n",
    "    optimizer=tf.train.AdamOptimizer(learning_rate=1e-3),\n",
    "    loss=tf.keras.losses.sparse_categorical_crossentropy,\n",
    "    metrics=['sparse_categorical_accuracy']\n",
    ")"
   ]
  },
  {
   "cell_type": "code",
   "execution_count": 0,
   "metadata": {
    "colab": {
     "base_uri": "https://localhost:8080/",
     "height": 853
    },
    "colab_type": "code",
    "id": "NvCKS7_d8UQX",
    "outputId": "4edeb6ef-964b-45af-dc47-186343d76b45"
   },
   "outputs": [
    {
     "name": "stdout",
     "output_type": "stream",
     "text": [
      "Epoch 1/15\n",
      "INFO:tensorflow:New input shapes; (re-)compiling: mode=train (# of cores 8), [TensorSpec(shape=(64,), dtype=tf.int32, name='core_id_200'), TensorSpec(shape=(64, 28, 28, 1), dtype=tf.float32, name='batch_normalization_31_input_10'), TensorSpec(shape=(64, 1), dtype=tf.float32, name='activation_21_target_10')]\n",
      "INFO:tensorflow:Overriding default placeholder.\n",
      "INFO:tensorflow:Remapping placeholder for batch_normalization_31_input\n",
      "INFO:tensorflow:Started compiling\n",
      "INFO:tensorflow:Finished compiling. Time elapsed: 11.430039405822754 secs\n",
      "INFO:tensorflow:Setting weights on TPU model.\n",
      " 99/100 [============================>.] - ETA: 0s - loss: 0.7691 - sparse_categorical_accuracy: 0.7246INFO:tensorflow:New input shapes; (re-)compiling: mode=eval (# of cores 8), [TensorSpec(shape=(64,), dtype=tf.int32, name='core_id_210'), TensorSpec(shape=(64, 28, 28, 1), dtype=tf.float32, name='batch_normalization_31_input_10'), TensorSpec(shape=(64, 1), dtype=tf.float32, name='activation_21_target_10')]\n",
      "INFO:tensorflow:Overriding default placeholder.\n",
      "INFO:tensorflow:Remapping placeholder for batch_normalization_31_input\n",
      "INFO:tensorflow:Started compiling\n",
      "INFO:tensorflow:Finished compiling. Time elapsed: 8.735003232955933 secs\n",
      "INFO:tensorflow:New input shapes; (re-)compiling: mode=eval (# of cores 8), [TensorSpec(shape=(37,), dtype=tf.int32, name='core_id_210'), TensorSpec(shape=(37, 28, 28, 1), dtype=tf.float32, name='batch_normalization_31_input_10'), TensorSpec(shape=(37, 1), dtype=tf.float32, name='activation_21_target_10')]\n",
      "INFO:tensorflow:Overriding default placeholder.\n",
      "INFO:tensorflow:Remapping placeholder for batch_normalization_31_input\n",
      "INFO:tensorflow:Started compiling\n",
      "INFO:tensorflow:Finished compiling. Time elapsed: 8.355279207229614 secs\n",
      "100/100 [==============================] - 45s 452ms/step - loss: 0.7673 - sparse_categorical_accuracy: 0.7252 - val_loss: 1.1870 - val_sparse_categorical_accuracy: 0.6446\n",
      "Epoch 2/15\n",
      "100/100 [==============================] - 6s 62ms/step - loss: 0.5067 - sparse_categorical_accuracy: 0.8183 - val_loss: 1.1559 - val_sparse_categorical_accuracy: 0.6631\n",
      "Epoch 3/15\n",
      "100/100 [==============================] - 6s 61ms/step - loss: 0.4456 - sparse_categorical_accuracy: 0.8397 - val_loss: 0.7153 - val_sparse_categorical_accuracy: 0.7759\n",
      "Epoch 4/15\n",
      "100/100 [==============================] - 6s 62ms/step - loss: 0.4009 - sparse_categorical_accuracy: 0.8541 - val_loss: 0.5453 - val_sparse_categorical_accuracy: 0.8187\n",
      "Epoch 5/15\n",
      "100/100 [==============================] - 6s 61ms/step - loss: 0.3770 - sparse_categorical_accuracy: 0.8623 - val_loss: 0.4260 - val_sparse_categorical_accuracy: 0.8308\n",
      "Epoch 6/15\n",
      "100/100 [==============================] - 6s 63ms/step - loss: 0.3485 - sparse_categorical_accuracy: 0.8729 - val_loss: 0.3187 - val_sparse_categorical_accuracy: 0.8846\n",
      "Epoch 7/15\n",
      "100/100 [==============================] - 6s 65ms/step - loss: 0.3396 - sparse_categorical_accuracy: 0.8742 - val_loss: 0.3106 - val_sparse_categorical_accuracy: 0.8867\n",
      "Epoch 8/15\n",
      "100/100 [==============================] - 6s 63ms/step - loss: 0.3151 - sparse_categorical_accuracy: 0.8837 - val_loss: 0.2987 - val_sparse_categorical_accuracy: 0.8887\n",
      "Epoch 9/15\n",
      "100/100 [==============================] - 6s 62ms/step - loss: 0.3053 - sparse_categorical_accuracy: 0.8899 - val_loss: 0.2796 - val_sparse_categorical_accuracy: 0.8967\n",
      "Epoch 10/15\n",
      "100/100 [==============================] - 6s 64ms/step - loss: 0.2969 - sparse_categorical_accuracy: 0.8908 - val_loss: 0.2793 - val_sparse_categorical_accuracy: 0.8974\n",
      "Epoch 11/15\n",
      "100/100 [==============================] - 6s 63ms/step - loss: 0.2867 - sparse_categorical_accuracy: 0.8928 - val_loss: 0.2727 - val_sparse_categorical_accuracy: 0.9036\n",
      "Epoch 12/15\n",
      "100/100 [==============================] - 6s 65ms/step - loss: 0.2757 - sparse_categorical_accuracy: 0.8983 - val_loss: 0.2751 - val_sparse_categorical_accuracy: 0.9002\n",
      "Epoch 13/15\n",
      "100/100 [==============================] - 6s 63ms/step - loss: 0.2661 - sparse_categorical_accuracy: 0.9011 - val_loss: 0.2908 - val_sparse_categorical_accuracy: 0.8964\n",
      "Epoch 14/15\n",
      "100/100 [==============================] - 6s 63ms/step - loss: 0.2553 - sparse_categorical_accuracy: 0.9054 - val_loss: 0.2682 - val_sparse_categorical_accuracy: 0.9034\n",
      "Epoch 15/15\n",
      "100/100 [==============================] - 6s 62ms/step - loss: 0.2438 - sparse_categorical_accuracy: 0.9098 - val_loss: 0.2653 - val_sparse_categorical_accuracy: 0.9050\n",
      "CPU times: user 25.9 s, sys: 3.34 s, total: 29.2 s\n",
      "Wall time: 2min 13s\n"
     ]
    }
   ],
   "source": [
    "%%time\n",
    "def train_gen(batch_size):\n",
    "  while True:\n",
    "    offset = np.random.randint(0, train_images.shape[0] - batch_size)\n",
    "    yield train_images[offset:offset+batch_size], train_labels[offset:offset + batch_size]\n",
    "    \n",
    "\n",
    "history = tpu_model.fit_generator(\n",
    "    train_gen(512),\n",
    "    epochs=15,\n",
    "    steps_per_epoch=100,\n",
    "    validation_data=(x_valid, y_valid)\n",
    ")"
   ]
  },
  {
   "cell_type": "code",
   "execution_count": 0,
   "metadata": {
    "colab": {
     "base_uri": "https://localhost:8080/",
     "height": 34
    },
    "colab_type": "code",
    "id": "RIw-523SSyOH",
    "outputId": "138b24c1-3b72-49d3-f14c-3d0c34e86235"
   },
   "outputs": [
    {
     "name": "stdout",
     "output_type": "stream",
     "text": [
      "dict_keys(['val_loss', 'val_sparse_categorical_accuracy', 'loss', 'sparse_categorical_accuracy'])\n"
     ]
    }
   ],
   "source": [
    "print(history.history.keys())"
   ]
  },
  {
   "cell_type": "code",
   "execution_count": 0,
   "metadata": {
    "colab": {
     "base_uri": "https://localhost:8080/",
     "height": 376
    },
    "colab_type": "code",
    "id": "WaCeOiZfR_jq",
    "outputId": "6acb130d-fad9-4c09-8871-928a659fb144"
   },
   "outputs": [
    {
     "data": {
      "image/png": "[encoded data removed]",
      "text/plain": [
       "<matplotlib.figure.Figure at 0x7f9ecf2180f0>"
      ]
     },
     "metadata": {
      "tags": []
     },
     "output_type": "display_data"
    }
   ],
   "source": [
    "import matplotlib.pyplot as plt\n",
    "\n",
    "plt.plot(history.history['loss'])\n",
    "plt.plot(history.history['val_loss'])\n",
    "plt.title('model loss')\n",
    "plt.ylabel('loss')\n",
    "plt.xlabel('epoch')\n",
    "plt.legend(['train', 'test'], loc='upper left')\n",
    "plt.show()"
   ]
  },
  {
   "cell_type": "code",
   "execution_count": 0,
   "metadata": {
    "colab": {
     "base_uri": "https://localhost:8080/",
     "height": 51
    },
    "colab_type": "code",
    "id": "SGR6rJUk9A7q",
    "outputId": "a5e275ab-24fd-4615-bdd4-cc06f0232a85"
   },
   "outputs": [
    {
     "name": "stdout",
     "output_type": "stream",
     "text": [
      "INFO:tensorflow:Copying TPU weights to the CPU\n",
      "Test accuracy: 0.8981\n"
     ]
    }
   ],
   "source": [
    "model = tpu_model.sync_to_cpu()\n",
    "\n",
    "score = model.evaluate(test_images, test_labels, verbose=0)\n",
    "\n",
    "print('Test accuracy:', score[1])"
   ]
  }
 ],
 "metadata": {
  "accelerator": "TPU",
  "colab": {
   "collapsed_sections": [],
   "name": "Part 2 - Experiment no.3",
   "provenance": [],
   "version": "0.3.2"
  },
  "kernelspec": {
   "display_name": "Python 3",
   "language": "python",
   "name": "python3"
  },
  "language_info": {
   "codemirror_mode": {
    "name": "ipython",
    "version": 3
   },
   "file_extension": ".py",
   "mimetype": "text/x-python",
   "name": "python",
   "nbconvert_exporter": "python",
   "pygments_lexer": "ipython3",
   "version": "3.6.7"
  }
 },
 "nbformat": 4,
 "nbformat_minor": 1
}
