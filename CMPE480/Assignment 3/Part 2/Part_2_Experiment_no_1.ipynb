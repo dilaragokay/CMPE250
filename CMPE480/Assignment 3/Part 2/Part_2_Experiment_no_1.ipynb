{
 "cells": [
  {
   "cell_type": "code",
   "execution_count": 0,
   "metadata": {
    "colab": {},
    "colab_type": "code",
    "id": "cxnOhPtg4nqZ"
   },
   "outputs": [],
   "source": [
    "import os\n",
    "\n",
    "import tensorflow as tf\n",
    "import numpy as np\n",
    "import pandas as pd\n",
    "import keras\n",
    "from sklearn.model_selection import StratifiedShuffleSplit"
   ]
  },
  {
   "cell_type": "code",
   "execution_count": 0,
   "metadata": {
    "colab": {},
    "colab_type": "code",
    "id": "V5pfW03IXtTv"
   },
   "outputs": [],
   "source": [
    "fashion_mnist = keras.datasets.fashion_mnist\n",
    "\n",
    "(train_images, train_labels), (test_images, test_labels) = fashion_mnist.load_data()\n",
    "\n",
    "train_images = np.expand_dims(train_images, 3)\n",
    "test_images = np.expand_dims(test_images, 3)"
   ]
  },
  {
   "cell_type": "code",
   "execution_count": 0,
   "metadata": {
    "colab": {},
    "colab_type": "code",
    "id": "EVYs5CuWYDQt"
   },
   "outputs": [],
   "source": [
    "class_names = ['T-shirt/top', 'Trouser', 'Pullover', 'Dress', 'Coat', 'Sandal', 'Shirt', 'Sneaker', 'Bag', 'Ankle boot']"
   ]
  },
  {
   "cell_type": "code",
   "execution_count": 0,
   "metadata": {
    "colab": {},
    "colab_type": "code",
    "id": "sAIj3RnL8Hhy"
   },
   "outputs": [],
   "source": [
    "sss = StratifiedShuffleSplit(n_splits=5, random_state=0, test_size=0.1)\n",
    "\n",
    "train_index, valid_index = next(sss.split(train_images, train_labels))\n",
    "\n",
    "x_valid, y_valid = train_images[valid_index], train_labels[valid_index]\n",
    "train_images, train_labels = train_images[train_index], train_labels[train_index]"
   ]
  },
  {
   "cell_type": "code",
   "execution_count": 121,
   "metadata": {
    "colab": {
     "base_uri": "https://localhost:8080/",
     "height": 952
    },
    "colab_type": "code",
    "id": "N8EfI0hw8K8P",
    "outputId": "e48a3235-c353-4db2-8c48-26051216fe84"
   },
   "outputs": [
    {
     "name": "stdout",
     "output_type": "stream",
     "text": [
      "_________________________________________________________________\n",
      "Layer (type)                 Output Shape              Param #   \n",
      "=================================================================\n",
      "batch_normalization_56 (Batc (None, 28, 28, 1)         4         \n",
      "_________________________________________________________________\n",
      "conv2d_56 (Conv2D)           (None, 28, 28, 64)        640       \n",
      "_________________________________________________________________\n",
      "max_pooling2d_50 (MaxPooling (None, 14, 14, 64)        0         \n",
      "_________________________________________________________________\n",
      "dropout_68 (Dropout)         (None, 14, 14, 64)        0         \n",
      "_________________________________________________________________\n",
      "batch_normalization_57 (Batc (None, 14, 14, 64)        256       \n",
      "_________________________________________________________________\n",
      "conv2d_57 (Conv2D)           (None, 14, 14, 64)        102464    \n",
      "_________________________________________________________________\n",
      "max_pooling2d_51 (MaxPooling (None, 7, 7, 64)          0         \n",
      "_________________________________________________________________\n",
      "dropout_69 (Dropout)         (None, 7, 7, 64)          0         \n",
      "_________________________________________________________________\n",
      "batch_normalization_58 (Batc (None, 7, 7, 64)          256       \n",
      "_________________________________________________________________\n",
      "conv2d_58 (Conv2D)           (None, 7, 7, 128)         204928    \n",
      "_________________________________________________________________\n",
      "max_pooling2d_52 (MaxPooling (None, 3, 3, 128)         0         \n",
      "_________________________________________________________________\n",
      "dropout_70 (Dropout)         (None, 3, 3, 128)         0         \n",
      "_________________________________________________________________\n",
      "batch_normalization_59 (Batc (None, 3, 3, 128)         512       \n",
      "_________________________________________________________________\n",
      "conv2d_59 (Conv2D)           (None, 3, 3, 256)         819456    \n",
      "_________________________________________________________________\n",
      "dropout_71 (Dropout)         (None, 3, 3, 256)         0         \n",
      "_________________________________________________________________\n",
      "batch_normalization_60 (Batc (None, 3, 3, 256)         1024      \n",
      "_________________________________________________________________\n",
      "conv2d_60 (Conv2D)           (None, 3, 3, 512)         3277312   \n",
      "_________________________________________________________________\n",
      "dropout_72 (Dropout)         (None, 3, 3, 512)         0         \n",
      "_________________________________________________________________\n",
      "flatten_13 (Flatten)         (None, 4608)              0         \n",
      "_________________________________________________________________\n",
      "dense_25 (Dense)             (None, 1024)              4719616   \n",
      "_________________________________________________________________\n",
      "activation_25 (Activation)   (None, 1024)              0         \n",
      "_________________________________________________________________\n",
      "dropout_73 (Dropout)         (None, 1024)              0         \n",
      "_________________________________________________________________\n",
      "dense_26 (Dense)             (None, 10)                10250     \n",
      "_________________________________________________________________\n",
      "activation_26 (Activation)   (None, 10)                0         \n",
      "=================================================================\n",
      "Total params: 9,136,718\n",
      "Trainable params: 9,135,692\n",
      "Non-trainable params: 1,026\n",
      "_________________________________________________________________\n"
     ]
    }
   ],
   "source": [
    "model = tf.keras.models.Sequential()\n",
    "model.add(tf.keras.layers.BatchNormalization(input_shape=train_images.shape[1:]))\n",
    "model.add(tf.keras.layers.Conv2D(64, (3, 3), padding='same', activation='elu'))\n",
    "model.add(tf.keras.layers.MaxPooling2D(pool_size=(2, 2), strides=(2,2)))\n",
    "model.add(tf.keras.layers.Dropout(0.5))\n",
    "model.add(tf.keras.layers.BatchNormalization(input_shape=train_images.shape[1:]))\n",
    "model.add(tf.keras.layers.Conv2D(64, (5, 5), padding='same', activation='elu'))\n",
    "model.add(tf.keras.layers.MaxPooling2D(pool_size=(2, 2), strides=(2,2)))\n",
    "model.add(tf.keras.layers.Dropout(0.5))\n",
    "model.add(tf.keras.layers.BatchNormalization(input_shape=train_images.shape[1:]))\n",
    "model.add(tf.keras.layers.Conv2D(128, (5, 5), padding='same', activation='elu'))\n",
    "model.add(tf.keras.layers.MaxPooling2D(pool_size=(2, 2)))\n",
    "model.add(tf.keras.layers.Dropout(0.2))\n",
    "model.add(tf.keras.layers.BatchNormalization(input_shape=train_images.shape[1:]))\n",
    "model.add(tf.keras.layers.Conv2D(256, (5, 5), padding='same', activation='elu'))\n",
    "model.add(tf.keras.layers.Dropout(0.2))\n",
    "model.add(tf.keras.layers.BatchNormalization(input_shape=train_images.shape[1:]))\n",
    "model.add(tf.keras.layers.Conv2D(512, (5, 5), padding='same', activation='elu'))\n",
    "model.add(tf.keras.layers.Dropout(0.2))\n",
    "model.add(tf.keras.layers.Flatten())\n",
    "model.add(tf.keras.layers.Dense(1024))\n",
    "model.add(tf.keras.layers.Activation('relu'))\n",
    "model.add(tf.keras.layers.Dropout(0.5))\n",
    "model.add(tf.keras.layers.Dense(10))\n",
    "model.add(tf.keras.layers.Activation('softmax'))\n",
    "model.summary()"
   ]
  },
  {
   "cell_type": "code",
   "execution_count": 122,
   "metadata": {
    "colab": {
     "base_uri": "https://localhost:8080/",
     "height": 343
    },
    "colab_type": "code",
    "id": "FCYHyX_p8MvO",
    "outputId": "b4b1e10d-be05-4bf3-afd1-494037216e33"
   },
   "outputs": [
    {
     "name": "stdout",
     "output_type": "stream",
     "text": [
      "INFO:tensorflow:Querying Tensorflow master (b'grpc://10.40.147.42:8470') for TPU system metadata.\n",
      "INFO:tensorflow:Found TPU system:\n",
      "INFO:tensorflow:*** Num TPU Cores: 8\n",
      "INFO:tensorflow:*** Num TPU Workers: 1\n",
      "INFO:tensorflow:*** Num TPU Cores Per Worker: 8\n",
      "INFO:tensorflow:*** Available Device: _DeviceAttributes(/job:worker/replica:0/task:0/device:CPU:0, CPU, -1, 17362590297417055769)\n",
      "INFO:tensorflow:*** Available Device: _DeviceAttributes(/job:worker/replica:0/task:0/device:XLA_CPU:0, XLA_CPU, 17179869184, 14313744146542037570)\n",
      "INFO:tensorflow:*** Available Device: _DeviceAttributes(/job:worker/replica:0/task:0/device:XLA_GPU:0, XLA_GPU, 17179869184, 7752905181711505116)\n",
      "INFO:tensorflow:*** Available Device: _DeviceAttributes(/job:worker/replica:0/task:0/device:TPU:0, TPU, 17179869184, 6789268817312198019)\n",
      "INFO:tensorflow:*** Available Device: _DeviceAttributes(/job:worker/replica:0/task:0/device:TPU:1, TPU, 17179869184, 16413383183326732077)\n",
      "INFO:tensorflow:*** Available Device: _DeviceAttributes(/job:worker/replica:0/task:0/device:TPU:2, TPU, 17179869184, 7175834816514419274)\n",
      "INFO:tensorflow:*** Available Device: _DeviceAttributes(/job:worker/replica:0/task:0/device:TPU:3, TPU, 17179869184, 431637199233474184)\n",
      "INFO:tensorflow:*** Available Device: _DeviceAttributes(/job:worker/replica:0/task:0/device:TPU:4, TPU, 17179869184, 1670169321586536756)\n",
      "INFO:tensorflow:*** Available Device: _DeviceAttributes(/job:worker/replica:0/task:0/device:TPU:5, TPU, 17179869184, 7196361711458188303)\n",
      "INFO:tensorflow:*** Available Device: _DeviceAttributes(/job:worker/replica:0/task:0/device:TPU:6, TPU, 17179869184, 18009511932017986188)\n",
      "INFO:tensorflow:*** Available Device: _DeviceAttributes(/job:worker/replica:0/task:0/device:TPU:7, TPU, 17179869184, 6306656714257262877)\n",
      "INFO:tensorflow:*** Available Device: _DeviceAttributes(/job:worker/replica:0/task:0/device:TPU_SYSTEM:0, TPU_SYSTEM, 17179869184, 16172087006911515564)\n",
      "WARNING:tensorflow:tpu_model (from tensorflow.contrib.tpu.python.tpu.keras_support) is experimental and may change or be removed at any time, and without warning.\n"
     ]
    }
   ],
   "source": [
    "tpu_model = tf.contrib.tpu.keras_to_tpu_model(\n",
    "    model,\n",
    "    strategy=tf.contrib.tpu.TPUDistributionStrategy(\n",
    "        tf.contrib.cluster_resolver.TPUClusterResolver(tpu='grpc://' + os.environ['COLAB_TPU_ADDR'])\n",
    "    )\n",
    ")\n",
    "tpu_model.compile(\n",
    "    optimizer=tf.train.AdamOptimizer(learning_rate=1e-3),\n",
    "    loss=tf.keras.losses.sparse_categorical_crossentropy,\n",
    "    metrics=['sparse_categorical_accuracy']\n",
    ")"
   ]
  },
  {
   "cell_type": "code",
   "execution_count": 123,
   "metadata": {
    "colab": {
     "base_uri": "https://localhost:8080/",
     "height": 853
    },
    "colab_type": "code",
    "id": "NvCKS7_d8UQX",
    "outputId": "ae24e110-dae2-4dfc-e1ab-6c665cf46209"
   },
   "outputs": [
    {
     "name": "stdout",
     "output_type": "stream",
     "text": [
      "Epoch 1/15\n",
      "INFO:tensorflow:New input shapes; (re-)compiling: mode=train (# of cores 8), [TensorSpec(shape=(64,), dtype=tf.int32, name='core_id_260'), TensorSpec(shape=(64, 28, 28, 1), dtype=tf.float32, name='batch_normalization_56_input_10'), TensorSpec(shape=(64, 1), dtype=tf.float32, name='activation_26_target_10')]\n",
      "INFO:tensorflow:Overriding default placeholder.\n",
      "INFO:tensorflow:Remapping placeholder for batch_normalization_56_input\n",
      "INFO:tensorflow:Started compiling\n",
      "INFO:tensorflow:Finished compiling. Time elapsed: 28.90749955177307 secs\n",
      "INFO:tensorflow:Setting weights on TPU model.\n",
      " 99/100 [============================>.] - ETA: 0s - loss: 0.7652 - sparse_categorical_accuracy: 0.7297INFO:tensorflow:New input shapes; (re-)compiling: mode=eval (# of cores 8), [TensorSpec(shape=(64,), dtype=tf.int32, name='core_id_270'), TensorSpec(shape=(64, 28, 28, 1), dtype=tf.float32, name='batch_normalization_56_input_10'), TensorSpec(shape=(64, 1), dtype=tf.float32, name='activation_26_target_10')]\n",
      "INFO:tensorflow:Overriding default placeholder.\n",
      "INFO:tensorflow:Remapping placeholder for batch_normalization_56_input\n",
      "INFO:tensorflow:Started compiling\n",
      "INFO:tensorflow:Finished compiling. Time elapsed: 23.555896282196045 secs\n",
      "INFO:tensorflow:New input shapes; (re-)compiling: mode=eval (# of cores 8), [TensorSpec(shape=(46,), dtype=tf.int32, name='core_id_270'), TensorSpec(shape=(46, 28, 28, 1), dtype=tf.float32, name='batch_normalization_56_input_10'), TensorSpec(shape=(46, 1), dtype=tf.float32, name='activation_26_target_10')]\n",
      "INFO:tensorflow:Overriding default placeholder.\n",
      "INFO:tensorflow:Remapping placeholder for batch_normalization_56_input\n",
      "INFO:tensorflow:Started compiling\n",
      "INFO:tensorflow:Finished compiling. Time elapsed: 23.794413089752197 secs\n",
      "100/100 [==============================] - 116s 1s/step - loss: 0.7631 - sparse_categorical_accuracy: 0.7304 - val_loss: 0.8591 - val_sparse_categorical_accuracy: 0.7100\n",
      "Epoch 2/15\n",
      "100/100 [==============================] - 17s 170ms/step - loss: 0.4834 - sparse_categorical_accuracy: 0.8216 - val_loss: 1.4003 - val_sparse_categorical_accuracy: 0.6328\n",
      "Epoch 3/15\n",
      "100/100 [==============================] - 17s 168ms/step - loss: 0.4268 - sparse_categorical_accuracy: 0.8453 - val_loss: 0.4377 - val_sparse_categorical_accuracy: 0.8353\n",
      "Epoch 4/15\n",
      "100/100 [==============================] - 17s 168ms/step - loss: 0.3943 - sparse_categorical_accuracy: 0.8572 - val_loss: 0.5986 - val_sparse_categorical_accuracy: 0.7980\n",
      "Epoch 5/15\n",
      "100/100 [==============================] - 17s 165ms/step - loss: 0.3601 - sparse_categorical_accuracy: 0.8685 - val_loss: 0.4650 - val_sparse_categorical_accuracy: 0.8428\n",
      "Epoch 6/15\n",
      "100/100 [==============================] - 17s 168ms/step - loss: 0.3431 - sparse_categorical_accuracy: 0.8768 - val_loss: 0.3244 - val_sparse_categorical_accuracy: 0.8880\n",
      "Epoch 7/15\n",
      "100/100 [==============================] - 17s 167ms/step - loss: 0.3150 - sparse_categorical_accuracy: 0.8836 - val_loss: 0.3253 - val_sparse_categorical_accuracy: 0.8898\n",
      "Epoch 8/15\n",
      "100/100 [==============================] - 17s 167ms/step - loss: 0.3083 - sparse_categorical_accuracy: 0.8866 - val_loss: 0.2729 - val_sparse_categorical_accuracy: 0.8998\n",
      "Epoch 9/15\n",
      "100/100 [==============================] - 17s 167ms/step - loss: 0.2966 - sparse_categorical_accuracy: 0.8905 - val_loss: 0.2743 - val_sparse_categorical_accuracy: 0.9057\n",
      "Epoch 10/15\n",
      "100/100 [==============================] - 17s 168ms/step - loss: 0.2910 - sparse_categorical_accuracy: 0.8949 - val_loss: 0.2527 - val_sparse_categorical_accuracy: 0.9122\n",
      "Epoch 11/15\n",
      "100/100 [==============================] - 17s 169ms/step - loss: 0.2793 - sparse_categorical_accuracy: 0.8986 - val_loss: 0.2974 - val_sparse_categorical_accuracy: 0.8980\n",
      "Epoch 12/15\n",
      "100/100 [==============================] - 17s 171ms/step - loss: 0.2814 - sparse_categorical_accuracy: 0.8979 - val_loss: 0.2562 - val_sparse_categorical_accuracy: 0.9093\n",
      "Epoch 13/15\n",
      "100/100 [==============================] - 17s 166ms/step - loss: 0.2697 - sparse_categorical_accuracy: 0.8998 - val_loss: 0.2343 - val_sparse_categorical_accuracy: 0.9137\n",
      "Epoch 14/15\n",
      "100/100 [==============================] - 17s 166ms/step - loss: 0.2692 - sparse_categorical_accuracy: 0.9028 - val_loss: 0.2482 - val_sparse_categorical_accuracy: 0.9090\n",
      "Epoch 15/15\n",
      "100/100 [==============================] - 16s 164ms/step - loss: 0.2608 - sparse_categorical_accuracy: 0.9041 - val_loss: 0.2355 - val_sparse_categorical_accuracy: 0.9168\n",
      "CPU times: user 31.1 s, sys: 3.74 s, total: 34.8 s\n",
      "Wall time: 5min 50s\n"
     ]
    }
   ],
   "source": [
    "%%time\n",
    "def train_gen(batch_size):\n",
    "  while True:\n",
    "    offset = np.random.randint(0, train_images.shape[0] - batch_size)\n",
    "    yield train_images[offset:offset+batch_size], train_labels[offset:offset + batch_size]\n",
    "    \n",
    "\n",
    "history = tpu_model.fit_generator(\n",
    "    train_gen(512),\n",
    "    epochs=15,\n",
    "    steps_per_epoch=100,\n",
    "    validation_data=(x_valid, y_valid)\n",
    ")"
   ]
  },
  {
   "cell_type": "code",
   "execution_count": 124,
   "metadata": {
    "colab": {
     "base_uri": "https://localhost:8080/",
     "height": 34
    },
    "colab_type": "code",
    "id": "RIw-523SSyOH",
    "outputId": "faab2f76-9831-469c-94be-b9f9a25ed4c0"
   },
   "outputs": [
    {
     "name": "stdout",
     "output_type": "stream",
     "text": [
      "dict_keys(['val_loss', 'val_sparse_categorical_accuracy', 'loss', 'sparse_categorical_accuracy'])\n"
     ]
    }
   ],
   "source": [
    "print(history.history.keys())"
   ]
  },
  {
   "cell_type": "code",
   "execution_count": 125,
   "metadata": {
    "colab": {
     "base_uri": "https://localhost:8080/",
     "height": 294
    },
    "colab_type": "code",
    "id": "WaCeOiZfR_jq",
    "outputId": "d9f5dbb5-0b24-43d8-eb78-dade0bf71774"
   },
   "outputs": [
    {
     "data": {
      "image/png": "[encoded data removed]",
      "text/plain": [
       "<matplotlib.figure.Figure at 0x7ff27a57b240>"
      ]
     },
     "metadata": {
      "tags": []
     },
     "output_type": "display_data"
    }
   ],
   "source": [
    "import matplotlib.pyplot as plt\n",
    "\n",
    "plt.plot(history.history['loss'])\n",
    "plt.plot(history.history['val_loss'])\n",
    "plt.title('model loss')\n",
    "plt.ylabel('loss')\n",
    "plt.xlabel('epoch')\n",
    "plt.legend(['train', 'test'], loc='upper left')\n",
    "plt.show()"
   ]
  },
  {
   "cell_type": "code",
   "execution_count": 126,
   "metadata": {
    "colab": {
     "base_uri": "https://localhost:8080/",
     "height": 51
    },
    "colab_type": "code",
    "id": "SGR6rJUk9A7q",
    "outputId": "10bd7329-51da-4ab3-f94c-9cec978f69e8"
   },
   "outputs": [
    {
     "name": "stdout",
     "output_type": "stream",
     "text": [
      "INFO:tensorflow:Copying TPU weights to the CPU\n",
      "Test accuracy: 0.908\n"
     ]
    }
   ],
   "source": [
    "model = tpu_model.sync_to_cpu()\n",
    "\n",
    "score = model.evaluate(test_images, test_labels, verbose=0)\n",
    "\n",
    "print('Test accuracy:', score[1])"
   ]
  }
 ],
 "metadata": {
  "accelerator": "TPU",
  "colab": {
   "collapsed_sections": [],
   "name": "Part 2 - Experiment no.1",
   "provenance": [],
   "version": "0.3.2"
  },
  "kernelspec": {
   "display_name": "Python 3",
   "language": "python",
   "name": "python3"
  },
  "language_info": {
   "codemirror_mode": {
    "name": "ipython",
    "version": 3
   },
   "file_extension": ".py",
   "mimetype": "text/x-python",
   "name": "python",
   "nbconvert_exporter": "python",
   "pygments_lexer": "ipython3",
   "version": "3.6.7"
  }
 },
 "nbformat": 4,
 "nbformat_minor": 1
}
